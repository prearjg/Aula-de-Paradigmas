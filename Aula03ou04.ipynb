{
  "nbformat": 4,
  "nbformat_minor": 0,
  "metadata": {
    "colab": {
      "provenance": [],
      "authorship_tag": "ABX9TyN9mYORQ/u/0QqkP1hRnjRC",
      "include_colab_link": true
    },
    "kernelspec": {
      "name": "python3",
      "display_name": "Python 3"
    },
    "language_info": {
      "name": "python"
    }
  },
  "cells": [
    {
      "cell_type": "markdown",
      "metadata": {
        "id": "view-in-github",
        "colab_type": "text"
      },
      "source": [
        "<a href=\"https://colab.research.google.com/github/prearjg/Aula-de-Paradigmas/blob/main/Aula03ou04.ipynb\" target=\"_parent\"><img src=\"https://colab.research.google.com/assets/colab-badge.svg\" alt=\"Open In Colab\"/></a>"
      ]
    },
    {
      "cell_type": "markdown",
      "source": [
        "Escreva um programa para controlar uma pequena máquina registradora. Você deve soliciatar ao usuário que digite o código do produto e a quantidade comprada. Utilize a tabela de códigos a seguri para obbter o preço de cada produto:\n",
        "Código Preço 1->0,50  2->1,00  3-> 4,00 5->7,00  9->8,00"
      ],
      "metadata": {
        "id": "p0Z-wzabXWrQ"
      }
    },
    {
      "cell_type": "code",
      "execution_count": null,
      "metadata": {
        "colab": {
          "base_uri": "https://localhost:8080/"
        },
        "id": "phJeIniUSxfz",
        "outputId": "881fadc7-5e81-47dc-a743-e65d3ac86b2f"
      },
      "outputs": [
        {
          "output_type": "stream",
          "name": "stdout",
          "text": [
            "A tabela de preço é:\n",
            "1 - 0,50\n",
            "2 - 1,00\n",
            "3 - 4,00\n",
            "5 - 7,00\n",
            "9 - 8,00\n",
            "0 - SAIR\n",
            "Digite o código: 1\n",
            "Digite o código: 1\n",
            "Digite o código: 9\n",
            "Digite o código: 8\n",
            "Digite o código: 8\n",
            "Digite o código: 8\n",
            "Digite o código: 3\n",
            "Digite o código: 0\n",
            "Quantidade de produtos com cada código:\n",
            "Código 1 -  2 \n",
            "Código 2 -  0 \n",
            "Código 3 -  1 \n",
            "Código 5 -  0 \n",
            "Código 9:  1 \n",
            "Preço Total:  13.0 R$\n"
          ]
        }
      ],
      "source": [
        "qtd1, qtd2, qtd3, qtd5, qtd9 = 0,0,0,0,0\n",
        "print(\"A tabela de preço é:\\n1 - 0,50\\n2 - 1,00\"\n",
        "  \"\\n3 - 4,00\\n5 - 7,00\\n9 - 8,00\\n0 - SAIR\")\n",
        "codigo = -1\n",
        "\n",
        "\"\"\"\n",
        "while codigo !=0 :\n",
        "    codigo = int(input(\"Digite o código: \"))\n",
        "    if codigo == 1:\n",
        "      qtd1 += 1\n",
        "    elif codigo == 2:\n",
        "      qtd2 += 1\n",
        "    elif codigo == 3:\n",
        "      qtd3 += 1\n",
        "    elif codigo == 5:\n",
        "      qtd5 += 1\n",
        "    elif codigo == 9:\n",
        "      qtd9 += 1\n",
        "PrecoTotal = qtd1*0.5 + qtd2*1 + qtd3*4 + qtd5*7 + qtd9*8\n",
        "\n",
        "print(\"Quantidade de produtos com cada código:\\nCódigo 1 - \", qtd1 ,\"\\nCódigo 2 - \", qtd2 ,\"\\nCódigo 3 - \",\n",
        "      qtd3 ,\"\\nCódigo 5 - \", qtd5 ,\"\\nCódigo 9: \", qtd9 ,\"\\nPreço Total: \", PrecoTotal ,\"R$\")\n",
        "\"\"\"\n",
        "\n"
      ]
    },
    {
      "cell_type": "code",
      "source": [],
      "metadata": {
        "id": "dZqkv_oWgFkQ"
      },
      "execution_count": null,
      "outputs": []
    },
    {
      "cell_type": "code",
      "source": [],
      "metadata": {
        "id": "Hx9x53xpboyn"
      },
      "execution_count": null,
      "outputs": []
    },
    {
      "cell_type": "markdown",
      "source": [
        "Lê um vetor de 8 posições e, em seguida,\n",
        "Lê dois valores X e Y quaisquer corrrespondentes a\n",
        "duas posições no vetor. O programa então imprime a soma\n",
        "dos valores encontrados nas respectivas posições X e Y."
      ],
      "metadata": {
        "id": "sLJGHwLJdR2K"
      }
    },
    {
      "cell_type": "code",
      "source": [
        "vetor = [0]*8\n",
        "for i in range(8):\n",
        "  vetor[i] = int(input(f\"Digite o valor da poisção {i}: \".format(i)))\n",
        "\n",
        "sair = 0\n",
        "while sair == 0:\n",
        "  valorx = int(input(\"Digite o valor x: \"))\n",
        "  if(valorx >= 0 and valorx < 8):\n",
        "    sair+=1\n",
        "\n",
        "sair = 0\n",
        "while sair == 0:\n",
        "  valory = int(input(\"Digite o valor y: \"))\n",
        "  if(valory >= 0 and valory < 8):\n",
        "    sair+=1\n",
        "\n",
        "print(\"o valor na posição x é: \", valorx)\n",
        "print(\"o valor na posição y é: \", valory)\n",
        "soma = vetor[valorx] + vetor[valory]\n",
        "\n",
        "print(\"a soma dos dois valores dá: \", soma)\n"
      ],
      "metadata": {
        "colab": {
          "base_uri": "https://localhost:8080/"
        },
        "id": "Fn-klIJfdkiD",
        "outputId": "45b4a413-1ef7-472e-b9fd-01368ec29ee3"
      },
      "execution_count": null,
      "outputs": [
        {
          "output_type": "stream",
          "name": "stdout",
          "text": [
            "Digite o valor da poisção 0: 1\n",
            "Digite o valor da poisção 1: 2\n",
            "Digite o valor da poisção 2: 3\n",
            "Digite o valor da poisção 3: 4\n",
            "Digite o valor da poisção 4: 5\n",
            "Digite o valor da poisção 5: 6\n",
            "Digite o valor da poisção 6: 7\n",
            "Digite o valor da poisção 7: 8\n",
            "Digite o valor x: 2\n",
            "Digite o valor y: 5\n",
            "o valor na posição x é:  2\n",
            "o valor na posição y é:  5\n",
            "a soma dos dois valores dá:  9\n"
          ]
        }
      ]
    },
    {
      "cell_type": "code",
      "source": [
        "# código do professor\n",
        "\n",
        "def main():\n",
        "  # Declara um vetor de 8 posições\n",
        "  vetor = [0] * 8\n",
        "  # Lê os valores do vetor\n",
        "  for i in range(8):\n",
        "    vetor[i] = int(input(f\"Digite o valor da posição {i}: \".format(i)))\n",
        "  # Lê os valores X e Y\n",
        "  x = int(input(\"Digite o valor de X: \"))\n",
        "  y = int(input(\"Digite o valor de Y: \"))\n",
        "  # Calcula a soma dos valores nas posições X e Y\n",
        "  soma = vetor[x] + vetor[y]\n",
        "  # Imprime a soma\n",
        "  print(f\"A soma dos valores nas posições X e Y é {soma}\".format(soma))\n",
        "if __name__ == \"__main__\":\n",
        "  main()\n"
      ],
      "metadata": {
        "id": "y7v-Nm6OiQC5"
      },
      "execution_count": null,
      "outputs": []
    },
    {
      "cell_type": "markdown",
      "source": [
        "Faça um progama em Python que receba do usuario um vetor com 10 posições. Em seguida devera ser impresso o maior e o menor elemento do vetor.\n",
        "soma de todos os elementos\n",
        "média de todos\n",
        "número de elementos >= 5"
      ],
      "metadata": {
        "id": "srtz9WCTjfv5"
      }
    },
    {
      "cell_type": "code",
      "source": [
        "vetor = [0]*10\n",
        "for i in range(10):\n",
        "  vetor[i] = int(input(f\"Digite o valor da posição {i}: \".format(i))) # receber do usuário os valores do vetor\n",
        "\n",
        "maior = -1\n",
        "menor = 999\n",
        "soma = 0\n",
        "media = 0\n",
        "maiorque5 = 0\n",
        "\n",
        "for i in range(len(vetor)): # percorrer o vetor\n",
        "\n",
        "  if vetor[i] > maior:\n",
        "    maior = vetor[i]      # receber o maior valor do array\n",
        "  if vetor[i] < menor:\n",
        "    menor = vetor[i]      # receber o menor valor do array\n",
        "  if vetor[i] > 5:\n",
        "    maiorque5 += 1        # quantidade de números maior que 5\n",
        "\n",
        "  soma += vetor[i]        # somar todos os valores do array\n",
        "  i = i+1\n",
        "\n",
        "media = soma / len(vetor)  # media pega a soma e divide pela quantidade de valores no array\n",
        "\n",
        "print(f\"O maior valor do array foi: {maior}\\nO menor valor foi: {menor}\\nA soma foi: \"\n",
        "  f\"{soma}\\nA media foi: {media}\\nE a quantidade de valores > 5 foi: {maiorque5}\")\n",
        "\n"
      ],
      "metadata": {
        "colab": {
          "base_uri": "https://localhost:8080/"
        },
        "id": "VgnS394Gjrkt",
        "outputId": "8d842341-9075-4207-82b3-51ae1bd4d942"
      },
      "execution_count": null,
      "outputs": [
        {
          "output_type": "stream",
          "name": "stdout",
          "text": [
            "Digite o valor da posição 0: 1\n",
            "Digite o valor da posição 1: 2\n",
            "Digite o valor da posição 2: 3\n",
            "Digite o valor da posição 3: 4\n",
            "Digite o valor da posição 4: 5\n",
            "Digite o valor da posição 5: 6\n",
            "Digite o valor da posição 6: 7\n",
            "Digite o valor da posição 7: 8\n",
            "Digite o valor da posição 8: 9\n",
            "Digite o valor da posição 9: 10\n",
            "O maior valor do array foi: 10\n",
            "O menor valor foi: 1\n",
            "A soma foi: 55\n",
            "A media foi: 5.5\n",
            "E a quantidade de valores > 5 foi: 5\n"
          ]
        }
      ]
    }
  ]
}