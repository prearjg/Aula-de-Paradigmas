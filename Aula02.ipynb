{
  "nbformat": 4,
  "nbformat_minor": 0,
  "metadata": {
    "colab": {
      "provenance": [],
      "authorship_tag": "ABX9TyPuDCm+tzXujNikZ4oUg8kd",
      "include_colab_link": true
    },
    "kernelspec": {
      "name": "python3",
      "display_name": "Python 3"
    },
    "language_info": {
      "name": "python"
    }
  },
  "cells": [
    {
      "cell_type": "markdown",
      "metadata": {
        "id": "view-in-github",
        "colab_type": "text"
      },
      "source": [
        "<a href=\"https://colab.research.google.com/github/prearjg/Aula-de-Paradigmas/blob/main/Aula02.ipynb\" target=\"_parent\"><img src=\"https://colab.research.google.com/assets/colab-badge.svg\" alt=\"Open In Colab\"/></a>"
      ]
    },
    {
      "cell_type": "markdown",
      "source": [
        "1) Fazer a leitura de duas notas e a média"
      ],
      "metadata": {
        "id": "7jACZqwjShSM"
      }
    },
    {
      "cell_type": "code",
      "execution_count": null,
      "metadata": {
        "id": "5jnAllMySb4G"
      },
      "outputs": [],
      "source": []
    },
    {
      "cell_type": "markdown",
      "source": [
        "2) faça um programa que solicite o preço de uma mercadoria e o percentual de desconto. Exiba o valor do desconto e o preço a pagar"
      ],
      "metadata": {
        "id": "b3gxJ6neSnNN"
      }
    },
    {
      "cell_type": "code",
      "source": [
        "def calcularDesconto(preco, percdesconto):\n",
        "  desconto = preco * percdesconto\n",
        "  precofinal = preco - desconto\n",
        "\n"
      ],
      "metadata": {
        "id": "0qhJ1iBQS0cV"
      },
      "execution_count": null,
      "outputs": []
    },
    {
      "cell_type": "code",
      "source": [
        "preço = float(input(\"Digite o preço da mercadoriai:\"))\n",
        "desconto = float(input(\"Digite o percentual de desconto:\"))\n",
        "valor_do_desconto = preco * desconto / 100\n",
        "a_pagar = preço - valor_do_desconto\n",
        "print(\"Um desconto de %5.2f %% em uma mercadoria de R$ %7.2f\" % (desconto, preço))\n",
        "print(\"vale R$ %7.2f.\" % valor_do_desconto)\n",
        "print(\"O valor a pagar é de R$ %7.2f\" % a_pagar)\n",
        "\n"
      ],
      "metadata": {
        "id": "c4fUbqgtTcpr"
      },
      "execution_count": null,
      "outputs": []
    },
    {
      "cell_type": "code",
      "source": [
        "def calculo(preco, percdesconto):\n",
        "  percentual = 0\n",
        "  if percdesconto >= 1:\n",
        "    percentual = percdesconto / 100\n",
        "  else:\n",
        "    percentual = percdesconto\n",
        "  desconto = preco * percentual\n",
        "  precopagar = preco - desconto\n",
        "  print(f'O desconto é de {desconto} reais e o valor a pagar fica em {precopagar} reais')\n",
        "\n",
        "# input do usuario\n",
        "preco = float(input(\"Informe o preço: \"))\n",
        "\n",
        "\n",
        "\n"
      ],
      "metadata": {
        "id": "7cYlS89iUaRy"
      },
      "execution_count": null,
      "outputs": []
    },
    {
      "cell_type": "markdown",
      "source": [
        "Escreva um programa para calcular a redução do tempo de vida de um fumante. Pergunte a quantidade de cigarros fumados por dia e quantos anos ele já fumou. Considere que um fumante perde 10 minuntos de vida a cada cigarro, e calcule qauntos dias de vida um fumante perderá. Exiba o total em dias.\n"
      ],
      "metadata": {
        "id": "HW_lY2E_UZ_G"
      }
    },
    {
      "cell_type": "code",
      "source": [
        "\n",
        "qtdDia = 0\n",
        "qtdAnos = 0\n",
        "CigarrosFumados = 0\n",
        "diasPerdidos = 0\n",
        "# print(\"Quantos cigarros fuma por dia?\")\n",
        "qtdDia = int(input(\"Quantos cigarros fuma por dia? \"))\n",
        "qtdAnos = int(input(\"A quantos anos fuma? \"))\n",
        "\n",
        "cigarrosFumados = qtdDia*(qtdAnos*365)\n",
        "minutosPerdidos = cigarrosFumados * 10\n",
        "diasPerdidos = minutosPerdidos / 144\n",
        "print(f\"\\nQuantidade por dia: {qtdDia}\\nAnos fumados: {qtdAnos}\\nQuantidade de cigarros fumados: {cigarrosFumados}\"\n",
        "      f\"\\nMinutos Perdidos: {minutosPerdidos}\\nDias Perdidos: %{diasPerdidos}.2f%\")\n",
        "\n",
        "\n",
        "\n",
        "\n",
        "\n"
      ],
      "metadata": {
        "colab": {
          "base_uri": "https://localhost:8080/"
        },
        "id": "VnXizdbjVcG0",
        "outputId": "4bcee3dc-a510-4091-ac92-120d265d3c73"
      },
      "execution_count": 14,
      "outputs": [
        {
          "output_type": "stream",
          "name": "stdout",
          "text": [
            "Quantos cigarros fuma por dia? 20\n",
            "A quantos anos fuma? 3\n",
            "\n",
            "Quantidade por dia: 20\n",
            "Anos fumados: 3\n",
            "Quantidade de cigarros fumados: 21900\n",
            "Minutos Perdidos: 219000\n",
            "Dias Perdidos: %1520.8333333333333.2f%\n"
          ]
        }
      ]
    }
  ]
}